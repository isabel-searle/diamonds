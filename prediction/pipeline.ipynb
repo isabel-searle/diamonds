{
 "cells": [
  {
   "cell_type": "code",
   "execution_count": 387,
   "metadata": {},
   "outputs": [],
   "source": [
    "import pandas as pd\n",
    "from sklearn.model_selection import train_test_split\n",
    "import seaborn as sns\n",
    "import matplotlib.pyplot as plt\n",
    "from sklearn.linear_model import LinearRegression, Lasso, Ridge, ElasticNet, SGDRegressor\n",
    "from sklearn.model_selection import cross_val_score\n",
    "from numpy import asarray\n",
    "from sklearn.preprocessing import OrdinalEncoder, LabelEncoder\n",
    "import numpy as np\n",
    "import math\n",
    "import statistics\n",
    "from sklearn.tree import DecisionTreeRegressor\n",
    "from sklearn.svm import SVR\n",
    "from sklearn.neighbors import KNeighborsRegressor\n",
    "from sklearn.ensemble import RandomForestRegressor\n",
    "from clean import clean_data\n",
    "from output import outputs\n",
    "from tests import model_RMSE, pipeline, test_features, xyz_test"
   ]
  },
  {
   "cell_type": "code",
   "execution_count": 328,
   "metadata": {},
   "outputs": [],
   "source": [
    "train = pd.read_csv('data/train.csv')\n",
    "predict = pd.read_csv('data/predict.csv')\n",
    "sample = pd.read_csv('data/sample_submission.csv')"
   ]
  },
  {
   "cell_type": "markdown",
   "metadata": {},
   "source": [
    "# Testing models with different features"
   ]
  },
  {
   "cell_type": "code",
   "execution_count": 330,
   "metadata": {},
   "outputs": [
    {
     "name": "stderr",
     "output_type": "stream",
     "text": [
      "/usr/local/lib/python3.8/site-packages/sklearn/linear_model/_coordinate_descent.py:529: ConvergenceWarning: Objective did not converge. You might want to increase the number of iterations. Duality gap: 1086449619.3681412, tolerance: 52508017.77129175\n",
      "  model = cd_fast.enet_coordinate_descent(\n"
     ]
    }
   ],
   "source": [
    "best_features=test_features(df,10)"
   ]
  },
  {
   "cell_type": "code",
   "execution_count": 331,
   "metadata": {},
   "outputs": [
    {
     "data": {
      "text/html": [
       "<div>\n",
       "<style scoped>\n",
       "    .dataframe tbody tr th:only-of-type {\n",
       "        vertical-align: middle;\n",
       "    }\n",
       "\n",
       "    .dataframe tbody tr th {\n",
       "        vertical-align: top;\n",
       "    }\n",
       "\n",
       "    .dataframe thead th {\n",
       "        text-align: right;\n",
       "    }\n",
       "</style>\n",
       "<table border=\"1\" class=\"dataframe\">\n",
       "  <thead>\n",
       "    <tr style=\"text-align: right;\">\n",
       "      <th></th>\n",
       "      <th>all_f</th>\n",
       "      <th>no_xyz</th>\n",
       "      <th>no_depth</th>\n",
       "      <th>no_depth_no_xyz</th>\n",
       "    </tr>\n",
       "  </thead>\n",
       "  <tbody>\n",
       "    <tr>\n",
       "      <th>&lt;class 'sklearn.linear_model._base.LinearRegression'&gt;</th>\n",
       "      <td>1223.746736</td>\n",
       "      <td>1245.947298</td>\n",
       "      <td>1212.241536</td>\n",
       "      <td>1247.862938</td>\n",
       "    </tr>\n",
       "    <tr>\n",
       "      <th>&lt;class 'sklearn.tree._classes.DecisionTreeRegressor'&gt;</th>\n",
       "      <td>748.797380</td>\n",
       "      <td>737.222073</td>\n",
       "      <td>751.980063</td>\n",
       "      <td>722.152664</td>\n",
       "    </tr>\n",
       "    <tr>\n",
       "      <th>&lt;class 'sklearn.linear_model._coordinate_descent.ElasticNet'&gt;</th>\n",
       "      <td>1751.330318</td>\n",
       "      <td>2990.254451</td>\n",
       "      <td>1752.766533</td>\n",
       "      <td>2975.609944</td>\n",
       "    </tr>\n",
       "    <tr>\n",
       "      <th>&lt;class 'sklearn.linear_model._ridge.Ridge'&gt;</th>\n",
       "      <td>1212.269503</td>\n",
       "      <td>1240.652748</td>\n",
       "      <td>1230.180921</td>\n",
       "      <td>1228.450356</td>\n",
       "    </tr>\n",
       "    <tr>\n",
       "      <th>&lt;class 'sklearn.linear_model._coordinate_descent.Lasso'&gt;</th>\n",
       "      <td>1243.969716</td>\n",
       "      <td>1246.707746</td>\n",
       "      <td>1222.797854</td>\n",
       "      <td>1234.688558</td>\n",
       "    </tr>\n",
       "    <tr>\n",
       "      <th>&lt;class 'sklearn.neighbors._regression.KNeighborsRegressor'&gt;</th>\n",
       "      <td>900.756086</td>\n",
       "      <td>1889.690101</td>\n",
       "      <td>821.632358</td>\n",
       "      <td>1449.201132</td>\n",
       "    </tr>\n",
       "    <tr>\n",
       "      <th>&lt;class 'sklearn.ensemble._forest.RandomForestRegressor'&gt;</th>\n",
       "      <td>555.816530</td>\n",
       "      <td>560.061387</td>\n",
       "      <td>553.688108</td>\n",
       "      <td>581.471348</td>\n",
       "    </tr>\n",
       "  </tbody>\n",
       "</table>\n",
       "</div>"
      ],
      "text/plain": [
       "                                                          all_f       no_xyz  \\\n",
       "<class 'sklearn.linear_model._base.LinearRegres...  1223.746736  1245.947298   \n",
       "<class 'sklearn.tree._classes.DecisionTreeRegre...   748.797380   737.222073   \n",
       "<class 'sklearn.linear_model._coordinate_descen...  1751.330318  2990.254451   \n",
       "<class 'sklearn.linear_model._ridge.Ridge'>         1212.269503  1240.652748   \n",
       "<class 'sklearn.linear_model._coordinate_descen...  1243.969716  1246.707746   \n",
       "<class 'sklearn.neighbors._regression.KNeighbor...   900.756086  1889.690101   \n",
       "<class 'sklearn.ensemble._forest.RandomForestRe...   555.816530   560.061387   \n",
       "\n",
       "                                                       no_depth  \\\n",
       "<class 'sklearn.linear_model._base.LinearRegres...  1212.241536   \n",
       "<class 'sklearn.tree._classes.DecisionTreeRegre...   751.980063   \n",
       "<class 'sklearn.linear_model._coordinate_descen...  1752.766533   \n",
       "<class 'sklearn.linear_model._ridge.Ridge'>         1230.180921   \n",
       "<class 'sklearn.linear_model._coordinate_descen...  1222.797854   \n",
       "<class 'sklearn.neighbors._regression.KNeighbor...   821.632358   \n",
       "<class 'sklearn.ensemble._forest.RandomForestRe...   553.688108   \n",
       "\n",
       "                                                    no_depth_no_xyz  \n",
       "<class 'sklearn.linear_model._base.LinearRegres...      1247.862938  \n",
       "<class 'sklearn.tree._classes.DecisionTreeRegre...       722.152664  \n",
       "<class 'sklearn.linear_model._coordinate_descen...      2975.609944  \n",
       "<class 'sklearn.linear_model._ridge.Ridge'>             1228.450356  \n",
       "<class 'sklearn.linear_model._coordinate_descen...      1234.688558  \n",
       "<class 'sklearn.neighbors._regression.KNeighbor...      1449.201132  \n",
       "<class 'sklearn.ensemble._forest.RandomForestRe...       581.471348  "
      ]
     },
     "execution_count": 331,
     "metadata": {},
     "output_type": "execute_result"
    }
   ],
   "source": [
    "best_features"
   ]
  },
  {
   "cell_type": "markdown",
   "metadata": {},
   "source": [
    "Here I can decide the top 3 model with the corresponding top 2 features.\n",
    "\n",
    "The ranking model is as follows:\n",
    "\n",
    "1. RandomForestRegressor: no_depht, all_f\n",
    "2. DecisionTreeRegressor: no_depth_no_xyz, no_xyz\n",
    "3. KNeighborsRegressor: no_depth, all_f"
   ]
  },
  {
   "cell_type": "markdown",
   "metadata": {},
   "source": [
    "# 1. RandomForestRegressor: no_depht, all_f"
   ]
  },
  {
   "cell_type": "code",
   "execution_count": 379,
   "metadata": {},
   "outputs": [],
   "source": [
    "df = pd.read_csv('data/train.csv').drop(columns=['id'])\n",
    "df_no_depth=df.drop(columns=['depth'])\n",
    "rfr_all=pipeline(df, RandomForestRegressor)\n",
    "rfr_no_depth=pipeline(df_no_depth, RandomForestRegressor)"
   ]
  },
  {
   "cell_type": "code",
   "execution_count": 380,
   "metadata": {},
   "outputs": [
    {
     "data": {
      "text/html": [
       "<div>\n",
       "<style scoped>\n",
       "    .dataframe tbody tr th:only-of-type {\n",
       "        vertical-align: middle;\n",
       "    }\n",
       "\n",
       "    .dataframe tbody tr th {\n",
       "        vertical-align: top;\n",
       "    }\n",
       "\n",
       "    .dataframe thead th {\n",
       "        text-align: right;\n",
       "    }\n",
       "</style>\n",
       "<table border=\"1\" class=\"dataframe\">\n",
       "  <thead>\n",
       "    <tr style=\"text-align: right;\">\n",
       "      <th></th>\n",
       "      <th>cross_val_score_mean</th>\n",
       "      <th>RMSE</th>\n",
       "      <th>R2</th>\n",
       "    </tr>\n",
       "  </thead>\n",
       "  <tbody>\n",
       "    <tr>\n",
       "      <th>0</th>\n",
       "      <td>-300491.763044</td>\n",
       "      <td>563.138744</td>\n",
       "      <td>0.980574</td>\n",
       "    </tr>\n",
       "  </tbody>\n",
       "</table>\n",
       "</div>"
      ],
      "text/plain": [
       "   cross_val_score_mean        RMSE        R2\n",
       "0        -300491.763044  563.138744  0.980574"
      ]
     },
     "execution_count": 380,
     "metadata": {},
     "output_type": "execute_result"
    }
   ],
   "source": [
    "rfr_all"
   ]
  },
  {
   "cell_type": "code",
   "execution_count": 381,
   "metadata": {},
   "outputs": [
    {
     "data": {
      "text/html": [
       "<div>\n",
       "<style scoped>\n",
       "    .dataframe tbody tr th:only-of-type {\n",
       "        vertical-align: middle;\n",
       "    }\n",
       "\n",
       "    .dataframe tbody tr th {\n",
       "        vertical-align: top;\n",
       "    }\n",
       "\n",
       "    .dataframe thead th {\n",
       "        text-align: right;\n",
       "    }\n",
       "</style>\n",
       "<table border=\"1\" class=\"dataframe\">\n",
       "  <thead>\n",
       "    <tr style=\"text-align: right;\">\n",
       "      <th></th>\n",
       "      <th>cross_val_score_mean</th>\n",
       "      <th>RMSE</th>\n",
       "      <th>R2</th>\n",
       "    </tr>\n",
       "  </thead>\n",
       "  <tbody>\n",
       "    <tr>\n",
       "      <th>0</th>\n",
       "      <td>-314782.663085</td>\n",
       "      <td>555.635497</td>\n",
       "      <td>0.980288</td>\n",
       "    </tr>\n",
       "  </tbody>\n",
       "</table>\n",
       "</div>"
      ],
      "text/plain": [
       "   cross_val_score_mean        RMSE        R2\n",
       "0        -314782.663085  555.635497  0.980288"
      ]
     },
     "execution_count": 381,
     "metadata": {},
     "output_type": "execute_result"
    }
   ],
   "source": [
    "rfr_no_depth"
   ]
  },
  {
   "cell_type": "markdown",
   "metadata": {},
   "source": [
    "# 2. DecisionTreeRegressor: no_depth_no_xyz, no_xyz"
   ]
  },
  {
   "cell_type": "code",
   "execution_count": 378,
   "metadata": {},
   "outputs": [],
   "source": [
    "df = pd.read_csv('data/train.csv').drop(columns=['id'])\n",
    "df_no_depth_no_xyz=df.drop(columns=['depth','x','y','z'])\n",
    "df_no_xyz=df.drop(columns=['x','y','z'])\n",
    "dtr_no_depth_xyz=pipeline(df_no_depth_no_xyz, DecisionTreeRegressor)\n",
    "dtr_no_xyz=pipeline(df_no_xyz, DecisionTreeRegressor)"
   ]
  },
  {
   "cell_type": "code",
   "execution_count": 382,
   "metadata": {},
   "outputs": [
    {
     "data": {
      "text/html": [
       "<div>\n",
       "<style scoped>\n",
       "    .dataframe tbody tr th:only-of-type {\n",
       "        vertical-align: middle;\n",
       "    }\n",
       "\n",
       "    .dataframe tbody tr th {\n",
       "        vertical-align: top;\n",
       "    }\n",
       "\n",
       "    .dataframe thead th {\n",
       "        text-align: right;\n",
       "    }\n",
       "</style>\n",
       "<table border=\"1\" class=\"dataframe\">\n",
       "  <thead>\n",
       "    <tr style=\"text-align: right;\">\n",
       "      <th></th>\n",
       "      <th>cross_val_score_mean</th>\n",
       "      <th>RMSE</th>\n",
       "      <th>R2</th>\n",
       "    </tr>\n",
       "  </thead>\n",
       "  <tbody>\n",
       "    <tr>\n",
       "      <th>0</th>\n",
       "      <td>-550363.949213</td>\n",
       "      <td>743.064264</td>\n",
       "      <td>0.96708</td>\n",
       "    </tr>\n",
       "  </tbody>\n",
       "</table>\n",
       "</div>"
      ],
      "text/plain": [
       "   cross_val_score_mean        RMSE       R2\n",
       "0        -550363.949213  743.064264  0.96708"
      ]
     },
     "execution_count": 382,
     "metadata": {},
     "output_type": "execute_result"
    }
   ],
   "source": [
    "dtr_no_depth_xyz"
   ]
  },
  {
   "cell_type": "code",
   "execution_count": 383,
   "metadata": {},
   "outputs": [
    {
     "data": {
      "text/html": [
       "<div>\n",
       "<style scoped>\n",
       "    .dataframe tbody tr th:only-of-type {\n",
       "        vertical-align: middle;\n",
       "    }\n",
       "\n",
       "    .dataframe tbody tr th {\n",
       "        vertical-align: top;\n",
       "    }\n",
       "\n",
       "    .dataframe thead th {\n",
       "        text-align: right;\n",
       "    }\n",
       "</style>\n",
       "<table border=\"1\" class=\"dataframe\">\n",
       "  <thead>\n",
       "    <tr style=\"text-align: right;\">\n",
       "      <th></th>\n",
       "      <th>cross_val_score_mean</th>\n",
       "      <th>RMSE</th>\n",
       "      <th>R2</th>\n",
       "    </tr>\n",
       "  </thead>\n",
       "  <tbody>\n",
       "    <tr>\n",
       "      <th>0</th>\n",
       "      <td>-524447.569199</td>\n",
       "      <td>774.11532</td>\n",
       "      <td>0.962581</td>\n",
       "    </tr>\n",
       "  </tbody>\n",
       "</table>\n",
       "</div>"
      ],
      "text/plain": [
       "   cross_val_score_mean       RMSE        R2\n",
       "0        -524447.569199  774.11532  0.962581"
      ]
     },
     "execution_count": 383,
     "metadata": {},
     "output_type": "execute_result"
    }
   ],
   "source": [
    "dtr_no_xyz"
   ]
  },
  {
   "cell_type": "markdown",
   "metadata": {},
   "source": [
    "# 3. KNeighborsRegressor: no_depth, all_f"
   ]
  },
  {
   "cell_type": "code",
   "execution_count": 384,
   "metadata": {},
   "outputs": [],
   "source": [
    "df = pd.read_csv('data/train.csv').drop(columns=['id'])\n",
    "df_no_depth=df.drop(columns=['depth'])\n",
    "knr_no_depth=pipeline(df_no_depth, KNeighborsRegressor)\n",
    "knr_all=pipeline(df, KNeighborsRegressor)"
   ]
  },
  {
   "cell_type": "code",
   "execution_count": 385,
   "metadata": {},
   "outputs": [
    {
     "data": {
      "text/html": [
       "<div>\n",
       "<style scoped>\n",
       "    .dataframe tbody tr th:only-of-type {\n",
       "        vertical-align: middle;\n",
       "    }\n",
       "\n",
       "    .dataframe tbody tr th {\n",
       "        vertical-align: top;\n",
       "    }\n",
       "\n",
       "    .dataframe thead th {\n",
       "        text-align: right;\n",
       "    }\n",
       "</style>\n",
       "<table border=\"1\" class=\"dataframe\">\n",
       "  <thead>\n",
       "    <tr style=\"text-align: right;\">\n",
       "      <th></th>\n",
       "      <th>cross_val_score_mean</th>\n",
       "      <th>RMSE</th>\n",
       "      <th>R2</th>\n",
       "    </tr>\n",
       "  </thead>\n",
       "  <tbody>\n",
       "    <tr>\n",
       "      <th>0</th>\n",
       "      <td>-686884.547718</td>\n",
       "      <td>817.374042</td>\n",
       "      <td>0.958703</td>\n",
       "    </tr>\n",
       "  </tbody>\n",
       "</table>\n",
       "</div>"
      ],
      "text/plain": [
       "   cross_val_score_mean        RMSE        R2\n",
       "0        -686884.547718  817.374042  0.958703"
      ]
     },
     "execution_count": 385,
     "metadata": {},
     "output_type": "execute_result"
    }
   ],
   "source": [
    "knr_no_depth"
   ]
  },
  {
   "cell_type": "code",
   "execution_count": 386,
   "metadata": {},
   "outputs": [
    {
     "data": {
      "text/html": [
       "<div>\n",
       "<style scoped>\n",
       "    .dataframe tbody tr th:only-of-type {\n",
       "        vertical-align: middle;\n",
       "    }\n",
       "\n",
       "    .dataframe tbody tr th {\n",
       "        vertical-align: top;\n",
       "    }\n",
       "\n",
       "    .dataframe thead th {\n",
       "        text-align: right;\n",
       "    }\n",
       "</style>\n",
       "<table border=\"1\" class=\"dataframe\">\n",
       "  <thead>\n",
       "    <tr style=\"text-align: right;\">\n",
       "      <th></th>\n",
       "      <th>cross_val_score_mean</th>\n",
       "      <th>RMSE</th>\n",
       "      <th>R2</th>\n",
       "    </tr>\n",
       "  </thead>\n",
       "  <tbody>\n",
       "    <tr>\n",
       "      <th>0</th>\n",
       "      <td>-808602.086849</td>\n",
       "      <td>896.041759</td>\n",
       "      <td>0.950545</td>\n",
       "    </tr>\n",
       "  </tbody>\n",
       "</table>\n",
       "</div>"
      ],
      "text/plain": [
       "   cross_val_score_mean        RMSE        R2\n",
       "0        -808602.086849  896.041759  0.950545"
      ]
     },
     "execution_count": 386,
     "metadata": {},
     "output_type": "execute_result"
    }
   ],
   "source": [
    "knr_all"
   ]
  },
  {
   "cell_type": "markdown",
   "metadata": {},
   "source": [
    "# Prediction to csv"
   ]
  },
  {
   "cell_type": "code",
   "execution_count": 391,
   "metadata": {},
   "outputs": [],
   "source": [
    "train = pd.read_csv('data/train.csv')\n",
    "predict = pd.read_csv('data/predict.csv')"
   ]
  },
  {
   "cell_type": "code",
   "execution_count": 392,
   "metadata": {},
   "outputs": [],
   "source": [
    "outputs(RandomForestRegressor,predict,train,'outputs/prediction')"
   ]
  },
  {
   "cell_type": "markdown",
   "metadata": {},
   "source": [
    "# Extras"
   ]
  },
  {
   "cell_type": "code",
   "execution_count": null,
   "metadata": {},
   "outputs": [],
   "source": [
    "# Before defining the function test_features I made the tests one by one, SGDRegressor and SVR are too long process \n",
    "# for a very bad result, so I leave them printed here, but I add them to the final function:\n",
    "# I definde this function in order to decide if I should drop x,y,z or not:\n",
    "def xyz_test(df,df_drop_xyz,model):\n",
    "    xyz=[]\n",
    "    no_xyz=[]\n",
    "    for i in range(100):\n",
    "        xyz.append(model_RMSE(df,model))\n",
    "        no_xyz.append(model_RMSE(df_drop_xyz,model))   \n",
    "        return {\"xyz\":statistics.mean(xyz), \"no_xyz\":statistics.mean(no_xyz)}"
   ]
  },
  {
   "cell_type": "code",
   "execution_count": 225,
   "metadata": {},
   "outputs": [
    {
     "data": {
      "text/plain": [
       "{'xyz': 4164.9956905341505, 'no_xyz': 4320.70844077423}"
      ]
     },
     "execution_count": 225,
     "metadata": {},
     "output_type": "execute_result"
    }
   ],
   "source": [
    "df = pd.read_csv('data/train.csv').drop(columns=['id'])\n",
    "df_drop_xyz=df.drop(columns=['x','y','z'])\n",
    "xyz_test(df,df_drop_xyz,SVR)"
   ]
  },
  {
   "cell_type": "code",
   "execution_count": 247,
   "metadata": {},
   "outputs": [
    {
     "data": {
      "text/plain": [
       "{'xyz': 77140220.93606305, 'no_xyz': 114719750.69685547}"
      ]
     },
     "execution_count": 247,
     "metadata": {},
     "output_type": "execute_result"
    }
   ],
   "source": [
    "df = pd.read_csv('data/train.csv').drop(columns=['id'])\n",
    "df_drop_xyz=df.drop(columns=['x','y','z'])\n",
    "xyz_test(df,df_drop_xyz,SGDRegressor)"
   ]
  },
  {
   "cell_type": "markdown",
   "metadata": {},
   "source": [
    "# GridSearchCV"
   ]
  },
  {
   "cell_type": "code",
   "execution_count": null,
   "metadata": {},
   "outputs": [],
   "source": [
    "from sklearn.model_selection import GridSearchCV\n",
    "\n",
    "y = df['price']\n",
    "x = df.drop(columns='price')\n",
    "X_train, X_test, y_train, y_test = train_test_split(x, y, test_size=0.20)\n",
    "\n",
    "parameters = {'kernel':('linear', 'rbf'), 'C':[1, 10]}\n",
    "model = SVR()\n",
    "clf = GridSearchCV(model, parameters)\n",
    "clf.fit(X_train, y_train)\n",
    "GridSearchCV(estimator=SVR(),\n",
    "             param_grid={'C': [1, 10], 'kernel': ('linear', 'rbf')})\n",
    "sorted(clf.cv_results_.keys())"
   ]
  },
  {
   "cell_type": "code",
   "execution_count": 179,
   "metadata": {
    "scrolled": true
   },
   "outputs": [
    {
     "data": {
      "text/html": [
       "<div>\n",
       "<style scoped>\n",
       "    .dataframe tbody tr th:only-of-type {\n",
       "        vertical-align: middle;\n",
       "    }\n",
       "\n",
       "    .dataframe tbody tr th {\n",
       "        vertical-align: top;\n",
       "    }\n",
       "\n",
       "    .dataframe thead th {\n",
       "        text-align: right;\n",
       "    }\n",
       "</style>\n",
       "<table border=\"1\" class=\"dataframe\">\n",
       "  <thead>\n",
       "    <tr style=\"text-align: right;\">\n",
       "      <th></th>\n",
       "      <th>mean_fit_time</th>\n",
       "      <th>std_fit_time</th>\n",
       "      <th>mean_score_time</th>\n",
       "      <th>std_score_time</th>\n",
       "      <th>param_C</th>\n",
       "      <th>param_kernel</th>\n",
       "      <th>params</th>\n",
       "      <th>split0_test_score</th>\n",
       "      <th>split1_test_score</th>\n",
       "      <th>split2_test_score</th>\n",
       "      <th>split3_test_score</th>\n",
       "      <th>split4_test_score</th>\n",
       "      <th>mean_test_score</th>\n",
       "      <th>std_test_score</th>\n",
       "      <th>rank_test_score</th>\n",
       "    </tr>\n",
       "  </thead>\n",
       "  <tbody>\n",
       "    <tr>\n",
       "      <th>0</th>\n",
       "      <td>17.847624</td>\n",
       "      <td>0.367658</td>\n",
       "      <td>1.504411</td>\n",
       "      <td>0.076706</td>\n",
       "      <td>1</td>\n",
       "      <td>linear</td>\n",
       "      <td>{'C': 1, 'kernel': 'linear'}</td>\n",
       "      <td>0.806575</td>\n",
       "      <td>0.795566</td>\n",
       "      <td>0.798468</td>\n",
       "      <td>0.798293</td>\n",
       "      <td>0.796857</td>\n",
       "      <td>0.799152</td>\n",
       "      <td>0.003859</td>\n",
       "      <td>2</td>\n",
       "    </tr>\n",
       "    <tr>\n",
       "      <th>1</th>\n",
       "      <td>30.925639</td>\n",
       "      <td>0.572925</td>\n",
       "      <td>3.848920</td>\n",
       "      <td>0.043687</td>\n",
       "      <td>1</td>\n",
       "      <td>rbf</td>\n",
       "      <td>{'C': 1, 'kernel': 'rbf'}</td>\n",
       "      <td>-0.131857</td>\n",
       "      <td>-0.147335</td>\n",
       "      <td>-0.132104</td>\n",
       "      <td>-0.129266</td>\n",
       "      <td>-0.129897</td>\n",
       "      <td>-0.134092</td>\n",
       "      <td>0.006711</td>\n",
       "      <td>4</td>\n",
       "    </tr>\n",
       "    <tr>\n",
       "      <th>2</th>\n",
       "      <td>20.184431</td>\n",
       "      <td>0.916863</td>\n",
       "      <td>1.528313</td>\n",
       "      <td>0.070182</td>\n",
       "      <td>10</td>\n",
       "      <td>linear</td>\n",
       "      <td>{'C': 10, 'kernel': 'linear'}</td>\n",
       "      <td>0.881503</td>\n",
       "      <td>0.868582</td>\n",
       "      <td>0.875496</td>\n",
       "      <td>0.870587</td>\n",
       "      <td>0.870352</td>\n",
       "      <td>0.873304</td>\n",
       "      <td>0.004699</td>\n",
       "      <td>1</td>\n",
       "    </tr>\n",
       "    <tr>\n",
       "      <th>3</th>\n",
       "      <td>31.141748</td>\n",
       "      <td>0.379140</td>\n",
       "      <td>3.872318</td>\n",
       "      <td>0.079626</td>\n",
       "      <td>10</td>\n",
       "      <td>rbf</td>\n",
       "      <td>{'C': 10, 'kernel': 'rbf'}</td>\n",
       "      <td>-0.010597</td>\n",
       "      <td>-0.028384</td>\n",
       "      <td>-0.012403</td>\n",
       "      <td>-0.012140</td>\n",
       "      <td>-0.012248</td>\n",
       "      <td>-0.015154</td>\n",
       "      <td>0.006647</td>\n",
       "      <td>3</td>\n",
       "    </tr>\n",
       "  </tbody>\n",
       "</table>\n",
       "</div>"
      ],
      "text/plain": [
       "   mean_fit_time  std_fit_time  mean_score_time  std_score_time param_C  \\\n",
       "0      17.847624      0.367658         1.504411        0.076706       1   \n",
       "1      30.925639      0.572925         3.848920        0.043687       1   \n",
       "2      20.184431      0.916863         1.528313        0.070182      10   \n",
       "3      31.141748      0.379140         3.872318        0.079626      10   \n",
       "\n",
       "  param_kernel                         params  split0_test_score  \\\n",
       "0       linear   {'C': 1, 'kernel': 'linear'}           0.806575   \n",
       "1          rbf      {'C': 1, 'kernel': 'rbf'}          -0.131857   \n",
       "2       linear  {'C': 10, 'kernel': 'linear'}           0.881503   \n",
       "3          rbf     {'C': 10, 'kernel': 'rbf'}          -0.010597   \n",
       "\n",
       "   split1_test_score  split2_test_score  split3_test_score  split4_test_score  \\\n",
       "0           0.795566           0.798468           0.798293           0.796857   \n",
       "1          -0.147335          -0.132104          -0.129266          -0.129897   \n",
       "2           0.868582           0.875496           0.870587           0.870352   \n",
       "3          -0.028384          -0.012403          -0.012140          -0.012248   \n",
       "\n",
       "   mean_test_score  std_test_score  rank_test_score  \n",
       "0         0.799152        0.003859                2  \n",
       "1        -0.134092        0.006711                4  \n",
       "2         0.873304        0.004699                1  \n",
       "3        -0.015154        0.006647                3  "
      ]
     },
     "execution_count": 179,
     "metadata": {},
     "output_type": "execute_result"
    }
   ],
   "source": [
    "pd.DataFrame.from_dict(clf.cv_results_)"
   ]
  }
 ],
 "metadata": {
  "kernelspec": {
   "display_name": "Python 3",
   "language": "python",
   "name": "python3.8"
  },
  "language_info": {
   "codemirror_mode": {
    "name": "ipython",
    "version": 3
   },
   "file_extension": ".py",
   "mimetype": "text/x-python",
   "name": "python",
   "nbconvert_exporter": "python",
   "pygments_lexer": "ipython3",
   "version": "3.8.6"
  }
 },
 "nbformat": 4,
 "nbformat_minor": 4
}
